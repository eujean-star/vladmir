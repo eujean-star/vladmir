{
 "cells": [
  {
   "cell_type": "code",
   "execution_count": 5,
   "id": "5c5a6355-c102-40d8-aa64-2ce1d7cec0b0",
   "metadata": {},
   "outputs": [],
   "source": [
    "import pandas as pd"
   ]
  },
  {
   "cell_type": "code",
   "execution_count": 50,
   "id": "04fadd15-08bc-4a07-b454-f22fe9d618c4",
   "metadata": {},
   "outputs": [],
   "source": [
    "# ARRUMAR A FUNÇÃO QUE CONFIGURA A CONTAGEM RELATIVA DO DF"
   ]
  },
  {
   "cell_type": "code",
   "execution_count": 31,
   "id": "bc673d5f-2802-4e10-b443-110ddc6396a5",
   "metadata": {},
   "outputs": [],
   "source": [
    "   \n",
    "\n",
    "def contagem_kmers(path):\n",
    "        data.loc['count'] = data.loc['count'].apply(lambda x: x/soma_kmers)\n",
    "\n",
    "    \n",
    "def config_df(path:str, feature:int):\n",
    "    handle = open(path)\n",
    "    data =pd.read_csv(handle, names=['kmers', 'count'], sep=' ')\n",
    "    data = data.T\n",
    "    data.rename(columns=data.loc['kmers'], inplace=True)\n",
    "    data.drop('kmers', inplace=True)\n",
    "    data['feature'] = feature\n",
    "    return data\n",
    "    \n"
   ]
  },
  {
   "cell_type": "code",
   "execution_count": 10,
   "id": "830a1155-89f7-40c4-80f3-b54815abf911",
   "metadata": {},
   "outputs": [],
   "source": [
    "data_teste = open('raw/al/SRR837438.kmers')"
   ]
  },
  {
   "cell_type": "code",
   "execution_count": 11,
   "id": "75956ea0-a3e3-4aef-86e1-45a4f8c004d3",
   "metadata": {},
   "outputs": [],
   "source": [
    "data = pd.read_csv(data_teste, names=['kmers','count'], sep = ' ')"
   ]
  },
  {
   "cell_type": "code",
   "execution_count": 16,
   "id": "bef68746-2c39-42e7-a521-7ca3116f936d",
   "metadata": {},
   "outputs": [],
   "source": [
    "data['count'] = data['count'].apply(lambda x : x/(data['count'].sum()))"
   ]
  },
  {
   "cell_type": "code",
   "execution_count": 17,
   "id": "8f6814db-2465-4f62-aab0-02ff31b8577d",
   "metadata": {},
   "outputs": [
    {
     "data": {
      "text/html": [
       "<div>\n",
       "<style scoped>\n",
       "    .dataframe tbody tr th:only-of-type {\n",
       "        vertical-align: middle;\n",
       "    }\n",
       "\n",
       "    .dataframe tbody tr th {\n",
       "        vertical-align: top;\n",
       "    }\n",
       "\n",
       "    .dataframe thead th {\n",
       "        text-align: right;\n",
       "    }\n",
       "</style>\n",
       "<table border=\"1\" class=\"dataframe\">\n",
       "  <thead>\n",
       "    <tr style=\"text-align: right;\">\n",
       "      <th></th>\n",
       "      <th>kmers</th>\n",
       "      <th>count</th>\n",
       "    </tr>\n",
       "  </thead>\n",
       "  <tbody>\n",
       "    <tr>\n",
       "      <th>0</th>\n",
       "      <td>AAAAACACCC</td>\n",
       "      <td>0.000002</td>\n",
       "    </tr>\n",
       "    <tr>\n",
       "      <th>1</th>\n",
       "      <td>AAAACACCCC</td>\n",
       "      <td>0.000002</td>\n",
       "    </tr>\n",
       "    <tr>\n",
       "      <th>2</th>\n",
       "      <td>AAAACCAACC</td>\n",
       "      <td>0.000002</td>\n",
       "    </tr>\n",
       "    <tr>\n",
       "      <th>3</th>\n",
       "      <td>AAAAGCAGCT</td>\n",
       "      <td>0.000088</td>\n",
       "    </tr>\n",
       "    <tr>\n",
       "      <th>4</th>\n",
       "      <td>AAAAGCAGTG</td>\n",
       "      <td>0.000012</td>\n",
       "    </tr>\n",
       "    <tr>\n",
       "      <th>...</th>\n",
       "      <td>...</td>\n",
       "      <td>...</td>\n",
       "    </tr>\n",
       "    <tr>\n",
       "      <th>4484</th>\n",
       "      <td>TTTTCTCGGG</td>\n",
       "      <td>0.000002</td>\n",
       "    </tr>\n",
       "    <tr>\n",
       "      <th>4485</th>\n",
       "      <td>TTTTGGAATT</td>\n",
       "      <td>0.000015</td>\n",
       "    </tr>\n",
       "    <tr>\n",
       "      <th>4486</th>\n",
       "      <td>TTTTGGGCTG</td>\n",
       "      <td>0.000007</td>\n",
       "    </tr>\n",
       "    <tr>\n",
       "      <th>4487</th>\n",
       "      <td>TTTTGGGCTT</td>\n",
       "      <td>0.000007</td>\n",
       "    </tr>\n",
       "    <tr>\n",
       "      <th>4488</th>\n",
       "      <td>TTTTGGGTGG</td>\n",
       "      <td>0.000002</td>\n",
       "    </tr>\n",
       "  </tbody>\n",
       "</table>\n",
       "<p>4489 rows × 2 columns</p>\n",
       "</div>"
      ],
      "text/plain": [
       "           kmers     count\n",
       "0     AAAAACACCC  0.000002\n",
       "1     AAAACACCCC  0.000002\n",
       "2     AAAACCAACC  0.000002\n",
       "3     AAAAGCAGCT  0.000088\n",
       "4     AAAAGCAGTG  0.000012\n",
       "...          ...       ...\n",
       "4484  TTTTCTCGGG  0.000002\n",
       "4485  TTTTGGAATT  0.000015\n",
       "4486  TTTTGGGCTG  0.000007\n",
       "4487  TTTTGGGCTT  0.000007\n",
       "4488  TTTTGGGTGG  0.000002\n",
       "\n",
       "[4489 rows x 2 columns]"
      ]
     },
     "execution_count": 17,
     "metadata": {},
     "output_type": "execute_result"
    }
   ],
   "source": [
    "data ="
   ]
  },
  {
   "cell_type": "code",
   "execution_count": null,
   "id": "8834891d-dc6d-4fea-ba3d-b7e33eeec2c1",
   "metadata": {},
   "outputs": [],
   "source": []
  },
  {
   "cell_type": "code",
   "execution_count": 6,
   "id": "5d893cbb-58e9-4ff3-b3c6-6c737028c215",
   "metadata": {},
   "outputs": [],
   "source": [
    "\n",
    "dataA = open('/SRR837438.kmers')\n",
    "dataB = open('./processed/SRR837439.kmers')\n",
    "dataC = open('./processed/SRR837439.kmers')\n",
    "dataD = open('./processed/SRR837440.kmers')\n",
    "dataE = open('./processed/SRR837441.kmers')\n",
    "dataF = open('./processed/SRR837442.kmers')\n",
    "dataG= open('./processed/SRR837443.kmers')\n",
    "dataH = open('./processed/SRR837444.kmers')\n",
    "dataI = open('./processed/SRR837445.kmers')\n",
    "dataJ = open('./processed/SRR837446.kmers')"
   ]
  },
  {
   "cell_type": "code",
   "execution_count": 32,
   "id": "40512ac9-6cee-465b-a970-96e934aa7482",
   "metadata": {},
   "outputs": [],
   "source": [
    "data_control = config_df_t('raw/con/SRR837471.kmers', 0)\n",
    "data_control = data_control.append(config_df_t('raw/con/SRR837472.kmers', 0))\n",
    "data_control = data_control.append(config_df_t('raw/con/SRR837473.kmers', 0))\n",
    "data_control = data_control.append(config_df_t('raw/con/SRR837474.kmers', 0))\n",
    "data_control = data_control.append(config_df_t('raw/con/SRR837475.kmers', 0))\n",
    "data_control = data_control.append(config_df_t('raw/con/SRR837476.kmers', 0))\n",
    "data_control = data_control.append(config_df_t('raw/con/SRR837477.kmers', 0))\n",
    "data_control = data_control.append(config_df_t('raw/con/SRR837478.kmers', 0))\n",
    "data_control = data_control.append(config_df_t('raw/con/SRR837479.kmers', 0))\n",
    "data_control = data_control.append(config_df_t('raw/con/SRR837480.kmers', 0))"
   ]
  },
  {
   "cell_type": "code",
   "execution_count": 46,
   "id": "76f33fb7-b186-4fe6-bfdd-e1582effead0",
   "metadata": {},
   "outputs": [],
   "source": [
    "data_total = pd.concat([data_, data_control])\n",
    "data_total.fillna(0, inplace=True)\n",
    "data_total.to_csv('/home/jan/vladmir/data/processed/initial_data_processed.csv', index=False)\n",
    "                  "
   ]
  }
 ],
 "metadata": {
  "kernelspec": {
   "display_name": "Python 3",
   "language": "python",
   "name": "python3"
  },
  "language_info": {
   "codemirror_mode": {
    "name": "ipython",
    "version": 3
   },
   "file_extension": ".py",
   "mimetype": "text/x-python",
   "name": "python",
   "nbconvert_exporter": "python",
   "pygments_lexer": "ipython3",
   "version": "3.8.10"
  }
 },
 "nbformat": 4,
 "nbformat_minor": 5
}
